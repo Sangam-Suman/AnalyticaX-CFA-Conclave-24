{
  "nbformat": 4,
  "nbformat_minor": 0,
  "metadata": {
    "colab": {
      "provenance": []
    },
    "kernelspec": {
      "name": "python3",
      "display_name": "Python 3"
    },
    "language_info": {
      "name": "python"
    }
  },
  "cells": [
    {
      "cell_type": "code",
      "source": [
        "import pandas as pd\n",
        "from sklearn.model_selection import train_test_split\n",
        "from sklearn.preprocessing import StandardScaler\n",
        "from sklearn.ensemble import RandomForestClassifier\n",
        "from sklearn.metrics import roc_auc_score"
      ],
      "metadata": {
        "id": "uwRHCJnX6qjS"
      },
      "execution_count": 1,
      "outputs": []
    },
    {
      "cell_type": "code",
      "source": [
        "\n",
        "# Step 1: Load datasets\n",
        "train_features = pd.read_csv(\"/content/drive/MyDrive/Research 3rd year/AnalyticaX/training_set_features.csv\")\n",
        "train_labels = pd.read_csv(\"/content/drive/MyDrive/Research 3rd year/AnalyticaX/training_set_labels.csv\")\n",
        "test_features = pd.read_csv(\"/content/drive/MyDrive/Research 3rd year/AnalyticaX/test_set_features.csv\")\n",
        "\n"
      ],
      "metadata": {
        "id": "xNLi9khp6shM"
      },
      "execution_count": 5,
      "outputs": []
    },
    {
      "cell_type": "code",
      "source": [
        "# Step 2: Exploratory Data Analysis (EDA)\n",
        "print(train_features.head())\n"
      ],
      "metadata": {
        "colab": {
          "base_uri": "https://localhost:8080/"
        },
        "id": "gJWjdm2I63df",
        "outputId": "7478905c-87b8-49aa-ec6a-3d21d90822ab"
      },
      "execution_count": 7,
      "outputs": [
        {
          "output_type": "stream",
          "name": "stdout",
          "text": [
            "   respondent_id  h1n1_concern  h1n1_knowledge  behavioral_antiviral_meds  \\\n",
            "0              0           1.0             0.0                        0.0   \n",
            "1              1           3.0             2.0                        0.0   \n",
            "2              2           1.0             1.0                        0.0   \n",
            "3              3           1.0             1.0                        0.0   \n",
            "4              4           2.0             1.0                        0.0   \n",
            "\n",
            "   behavioral_avoidance  behavioral_face_mask  behavioral_wash_hands  \\\n",
            "0                   0.0                   0.0                    0.0   \n",
            "1                   1.0                   0.0                    1.0   \n",
            "2                   1.0                   0.0                    0.0   \n",
            "3                   1.0                   0.0                    1.0   \n",
            "4                   1.0                   0.0                    1.0   \n",
            "\n",
            "   behavioral_large_gatherings  behavioral_outside_home  \\\n",
            "0                          0.0                      1.0   \n",
            "1                          0.0                      1.0   \n",
            "2                          0.0                      0.0   \n",
            "3                          1.0                      0.0   \n",
            "4                          1.0                      0.0   \n",
            "\n",
            "   behavioral_touch_face  ...             income_poverty  marital_status  \\\n",
            "0                    1.0  ...              Below Poverty     Not Married   \n",
            "1                    1.0  ...              Below Poverty     Not Married   \n",
            "2                    0.0  ...  <= $75,000, Above Poverty     Not Married   \n",
            "3                    0.0  ...              Below Poverty     Not Married   \n",
            "4                    1.0  ...  <= $75,000, Above Poverty         Married   \n",
            "\n",
            "   rent_or_own   employment_status  hhs_geo_region                census_msa  \\\n",
            "0          Own  Not in Labor Force        oxchjgsf                   Non-MSA   \n",
            "1         Rent            Employed        bhuqouqj  MSA, Not Principle  City   \n",
            "2          Own            Employed        qufhixun  MSA, Not Principle  City   \n",
            "3         Rent  Not in Labor Force        lrircsnp       MSA, Principle City   \n",
            "4          Own            Employed        qufhixun  MSA, Not Principle  City   \n",
            "\n",
            "   household_adults  household_children  employment_industry  \\\n",
            "0               0.0                 0.0                  NaN   \n",
            "1               0.0                 0.0             pxcmvdjn   \n",
            "2               2.0                 0.0             rucpziij   \n",
            "3               0.0                 0.0                  NaN   \n",
            "4               1.0                 0.0             wxleyezf   \n",
            "\n",
            "   employment_occupation  \n",
            "0                    NaN  \n",
            "1               xgwztkwe  \n",
            "2               xtkaffoo  \n",
            "3                    NaN  \n",
            "4               emcorrxb  \n",
            "\n",
            "[5 rows x 36 columns]\n"
          ]
        }
      ]
    },
    {
      "cell_type": "code",
      "source": [
        "print(train_labels.head())\n"
      ],
      "metadata": {
        "colab": {
          "base_uri": "https://localhost:8080/"
        },
        "id": "qymgEv-f7OvB",
        "outputId": "012b8f30-958e-47f8-b351-36546e9c5e00"
      },
      "execution_count": 8,
      "outputs": [
        {
          "output_type": "stream",
          "name": "stdout",
          "text": [
            "   respondent_id  h1n1_vaccine  seasonal_vaccine\n",
            "0              0             0                 0\n",
            "1              1             0                 1\n",
            "2              2             0                 0\n",
            "3              3             0                 1\n",
            "4              4             0                 0\n"
          ]
        }
      ]
    },
    {
      "cell_type": "code",
      "source": [
        "print(train_features.info())"
      ],
      "metadata": {
        "colab": {
          "base_uri": "https://localhost:8080/"
        },
        "id": "T-I6w7ru7U81",
        "outputId": "4d980c6f-2322-4fc4-892a-3101d5318f72"
      },
      "execution_count": 10,
      "outputs": [
        {
          "output_type": "stream",
          "name": "stdout",
          "text": [
            "<class 'pandas.core.frame.DataFrame'>\n",
            "RangeIndex: 26707 entries, 0 to 26706\n",
            "Data columns (total 36 columns):\n",
            " #   Column                       Non-Null Count  Dtype  \n",
            "---  ------                       --------------  -----  \n",
            " 0   respondent_id                26707 non-null  int64  \n",
            " 1   h1n1_concern                 26615 non-null  float64\n",
            " 2   h1n1_knowledge               26591 non-null  float64\n",
            " 3   behavioral_antiviral_meds    26636 non-null  float64\n",
            " 4   behavioral_avoidance         26499 non-null  float64\n",
            " 5   behavioral_face_mask         26688 non-null  float64\n",
            " 6   behavioral_wash_hands        26665 non-null  float64\n",
            " 7   behavioral_large_gatherings  26620 non-null  float64\n",
            " 8   behavioral_outside_home      26625 non-null  float64\n",
            " 9   behavioral_touch_face        26579 non-null  float64\n",
            " 10  doctor_recc_h1n1             24547 non-null  float64\n",
            " 11  doctor_recc_seasonal         24547 non-null  float64\n",
            " 12  chronic_med_condition        25736 non-null  float64\n",
            " 13  child_under_6_months         25887 non-null  float64\n",
            " 14  health_worker                25903 non-null  float64\n",
            " 15  health_insurance             14433 non-null  float64\n",
            " 16  opinion_h1n1_vacc_effective  26316 non-null  float64\n",
            " 17  opinion_h1n1_risk            26319 non-null  float64\n",
            " 18  opinion_h1n1_sick_from_vacc  26312 non-null  float64\n",
            " 19  opinion_seas_vacc_effective  26245 non-null  float64\n",
            " 20  opinion_seas_risk            26193 non-null  float64\n",
            " 21  opinion_seas_sick_from_vacc  26170 non-null  float64\n",
            " 22  age_group                    26707 non-null  object \n",
            " 23  education                    25300 non-null  object \n",
            " 24  race                         26707 non-null  object \n",
            " 25  sex                          26707 non-null  object \n",
            " 26  income_poverty               22284 non-null  object \n",
            " 27  marital_status               25299 non-null  object \n",
            " 28  rent_or_own                  24665 non-null  object \n",
            " 29  employment_status            25244 non-null  object \n",
            " 30  hhs_geo_region               26707 non-null  object \n",
            " 31  census_msa                   26707 non-null  object \n",
            " 32  household_adults             26458 non-null  float64\n",
            " 33  household_children           26458 non-null  float64\n",
            " 34  employment_industry          13377 non-null  object \n",
            " 35  employment_occupation        13237 non-null  object \n",
            "dtypes: float64(23), int64(1), object(12)\n",
            "memory usage: 7.3+ MB\n",
            "None\n"
          ]
        }
      ]
    },
    {
      "cell_type": "code",
      "source": [
        "print(test_features.head())\n"
      ],
      "metadata": {
        "colab": {
          "base_uri": "https://localhost:8080/"
        },
        "id": "uj8LEmN87SOr",
        "outputId": "af587916-f5a6-4527-b60e-9bc304278725"
      },
      "execution_count": 9,
      "outputs": [
        {
          "output_type": "stream",
          "name": "stdout",
          "text": [
            "   respondent_id  h1n1_concern  h1n1_knowledge  behavioral_antiviral_meds  \\\n",
            "0          26707           2.0             2.0                        0.0   \n",
            "1          26708           1.0             1.0                        0.0   \n",
            "2          26709           2.0             2.0                        0.0   \n",
            "3          26710           1.0             1.0                        0.0   \n",
            "4          26711           3.0             1.0                        1.0   \n",
            "\n",
            "   behavioral_avoidance  behavioral_face_mask  behavioral_wash_hands  \\\n",
            "0                   1.0                   0.0                    1.0   \n",
            "1                   0.0                   0.0                    0.0   \n",
            "2                   0.0                   1.0                    1.0   \n",
            "3                   0.0                   0.0                    0.0   \n",
            "4                   1.0                   0.0                    1.0   \n",
            "\n",
            "   behavioral_large_gatherings  behavioral_outside_home  \\\n",
            "0                          1.0                      0.0   \n",
            "1                          0.0                      0.0   \n",
            "2                          1.0                      1.0   \n",
            "3                          0.0                      0.0   \n",
            "4                          1.0                      1.0   \n",
            "\n",
            "   behavioral_touch_face  ...             income_poverty  marital_status  \\\n",
            "0                    1.0  ...                  > $75,000     Not Married   \n",
            "1                    0.0  ...              Below Poverty     Not Married   \n",
            "2                    1.0  ...                  > $75,000         Married   \n",
            "3                    0.0  ...  <= $75,000, Above Poverty         Married   \n",
            "4                    1.0  ...  <= $75,000, Above Poverty     Not Married   \n",
            "\n",
            "   rent_or_own   employment_status  hhs_geo_region                census_msa  \\\n",
            "0         Rent            Employed        mlyzmhmf  MSA, Not Principle  City   \n",
            "1         Rent            Employed        bhuqouqj                   Non-MSA   \n",
            "2          Own            Employed        lrircsnp                   Non-MSA   \n",
            "3          Own  Not in Labor Force        lrircsnp  MSA, Not Principle  City   \n",
            "4          Own            Employed        lzgpxyit                   Non-MSA   \n",
            "\n",
            "   household_adults  household_children  employment_industry  \\\n",
            "0               1.0                 0.0             atmlpfrs   \n",
            "1               3.0                 0.0             atmlpfrs   \n",
            "2               1.0                 0.0             nduyfdeo   \n",
            "3               1.0                 0.0                  NaN   \n",
            "4               0.0                 1.0             fcxhlnwr   \n",
            "\n",
            "   employment_occupation  \n",
            "0               hfxkjkmi  \n",
            "1               xqwwgdyp  \n",
            "2               pvmttkik  \n",
            "3                    NaN  \n",
            "4               mxkfnird  \n",
            "\n",
            "[5 rows x 36 columns]\n"
          ]
        }
      ]
    },
    {
      "cell_type": "code",
      "source": [
        "# Step 3: Data Preprocessing\n",
        "# Handle missing values\n",
        "train_features.fillna(train_features.mean(), inplace=True)\n",
        "test_features.fillna(test_features.mean(), inplace=True)\n",
        "\n",
        "# Encode categorical variables\n",
        "train_features = pd.get_dummies(train_features)\n",
        "test_features = pd.get_dummies(test_features)\n",
        "\n",
        "# Scale numerical features\n",
        "scaler = StandardScaler()\n",
        "train_features_scaled = scaler.fit_transform(train_features)\n",
        "test_features_scaled = scaler.transform(test_features)\n",
        "\n",
        "# Step 4: Split training data into features and labels\n",
        "X_train, X_val, y_train, y_val = train_test_split(train_features_scaled, train_labels, test_size=0.2, random_state=42)\n"
      ],
      "metadata": {
        "id": "46KD26zT1n9m",
        "colab": {
          "base_uri": "https://localhost:8080/"
        },
        "outputId": "ee18d7a1-371c-4290-9c47-f703dc06ef0f"
      },
      "execution_count": 11,
      "outputs": [
        {
          "output_type": "stream",
          "name": "stderr",
          "text": [
            "<ipython-input-11-076a19dd6ea7>:3: FutureWarning: The default value of numeric_only in DataFrame.mean is deprecated. In a future version, it will default to False. In addition, specifying 'numeric_only=None' is deprecated. Select only valid columns or specify the value of numeric_only to silence this warning.\n",
            "  train_features.fillna(train_features.mean(), inplace=True)\n",
            "<ipython-input-11-076a19dd6ea7>:4: FutureWarning: The default value of numeric_only in DataFrame.mean is deprecated. In a future version, it will default to False. In addition, specifying 'numeric_only=None' is deprecated. Select only valid columns or specify the value of numeric_only to silence this warning.\n",
            "  test_features.fillna(test_features.mean(), inplace=True)\n"
          ]
        }
      ]
    },
    {
      "cell_type": "code",
      "source": [
        "from tensorflow.keras.models import Sequential\n",
        "from tensorflow.keras.layers import Dense, Dropout\n",
        "from tensorflow.keras.callbacks import EarlyStopping\n"
      ],
      "metadata": {
        "id": "wOXaYmDJ8U4p"
      },
      "execution_count": 13,
      "outputs": []
    },
    {
      "cell_type": "code",
      "source": [
        "# Step 4: Split training data into features and labels\n",
        "X_train, X_val, y_train, y_val = train_test_split(train_features_scaled, train_labels, test_size=0.2, random_state=42)\n",
        "\n",
        "# Step 5: Build neural network models\n",
        "def build_model(input_dim):\n",
        "    model = Sequential([\n",
        "        Dense(64, activation='relu', input_dim=input_dim),\n",
        "        Dropout(0.5),\n",
        "        Dense(32, activation='relu'),\n",
        "        Dropout(0.5),\n",
        "        Dense(1, activation='sigmoid')\n",
        "    ])\n",
        "    model.compile(optimizer='adam', loss='binary_crossentropy', metrics=['accuracy'])\n",
        "    return model\n",
        "\n",
        "model_h1n1 = build_model(X_train.shape[1])\n",
        "model_seasonal = build_model(X_train.shape[1])"
      ],
      "metadata": {
        "id": "kG2mXKUZ8LTN"
      },
      "execution_count": 14,
      "outputs": []
    },
    {
      "cell_type": "code",
      "source": [
        "# Step 6: Train models\n",
        "early_stopping = EarlyStopping(patience=3, restore_best_weights=True)\n",
        "history_h1n1 = model_h1n1.fit(X_train, y_train['h1n1_vaccine'], epochs=20, batch_size=64, validation_data=(X_val, y_val['h1n1_vaccine']), callbacks=[early_stopping])\n",
        "history_seasonal = model_seasonal.fit(X_train, y_train['seasonal_vaccine'], epochs=20, batch_size=64, validation_data=(X_val, y_val['seasonal_vaccine']), callbacks=[early_stopping])\n",
        "\n",
        "# Step 7: Evaluate models\n",
        "preds_h1n1 = model_h1n1.predict(X_val).flatten()\n",
        "preds_seasonal = model_seasonal.predict(X_val).flatten()\n",
        "\n",
        "roc_auc_h1n1 = roc_auc_score(y_val['h1n1_vaccine'], preds_h1n1)\n",
        "roc_auc_seasonal = roc_auc_score(y_val['seasonal_vaccine'], preds_seasonal)\n",
        "overall_score = (roc_auc_h1n1 + roc_auc_seasonal) / 2\n",
        "\n",
        "print(\"ROC AUC for H1N1 Vaccine:\", roc_auc_h1n1)\n",
        "print(\"ROC AUC for Seasonal Vaccine:\", roc_auc_seasonal)\n",
        "print(\"Overall Score:\", overall_score)"
      ],
      "metadata": {
        "colab": {
          "base_uri": "https://localhost:8080/"
        },
        "id": "gTKtowQi8OaA",
        "outputId": "a894c96c-4191-4eb1-f9e7-49c5453c8306"
      },
      "execution_count": 15,
      "outputs": [
        {
          "output_type": "stream",
          "name": "stdout",
          "text": [
            "Epoch 1/20\n",
            "334/334 [==============================] - 2s 4ms/step - loss: 0.5325 - accuracy: 0.7637 - val_loss: 0.4260 - val_accuracy: 0.7978\n",
            "Epoch 2/20\n",
            "334/334 [==============================] - 1s 3ms/step - loss: 0.4452 - accuracy: 0.8054 - val_loss: 0.4042 - val_accuracy: 0.8268\n",
            "Epoch 3/20\n",
            "334/334 [==============================] - 1s 3ms/step - loss: 0.4234 - accuracy: 0.8138 - val_loss: 0.3927 - val_accuracy: 0.8328\n",
            "Epoch 4/20\n",
            "334/334 [==============================] - 1s 3ms/step - loss: 0.4094 - accuracy: 0.8215 - val_loss: 0.3904 - val_accuracy: 0.8341\n",
            "Epoch 5/20\n",
            "334/334 [==============================] - 1s 3ms/step - loss: 0.4060 - accuracy: 0.8231 - val_loss: 0.3864 - val_accuracy: 0.8355\n",
            "Epoch 6/20\n",
            "334/334 [==============================] - 1s 3ms/step - loss: 0.3980 - accuracy: 0.8284 - val_loss: 0.3834 - val_accuracy: 0.8366\n",
            "Epoch 7/20\n",
            "334/334 [==============================] - 2s 5ms/step - loss: 0.3912 - accuracy: 0.8299 - val_loss: 0.3823 - val_accuracy: 0.8355\n",
            "Epoch 8/20\n",
            "334/334 [==============================] - 3s 8ms/step - loss: 0.3889 - accuracy: 0.8347 - val_loss: 0.3802 - val_accuracy: 0.8383\n",
            "Epoch 9/20\n",
            "334/334 [==============================] - 3s 8ms/step - loss: 0.3844 - accuracy: 0.8346 - val_loss: 0.3773 - val_accuracy: 0.8390\n",
            "Epoch 10/20\n",
            "334/334 [==============================] - 2s 7ms/step - loss: 0.3841 - accuracy: 0.8351 - val_loss: 0.3778 - val_accuracy: 0.8385\n",
            "Epoch 11/20\n",
            "334/334 [==============================] - 2s 7ms/step - loss: 0.3840 - accuracy: 0.8359 - val_loss: 0.3745 - val_accuracy: 0.8411\n",
            "Epoch 12/20\n",
            "334/334 [==============================] - 1s 3ms/step - loss: 0.3788 - accuracy: 0.8369 - val_loss: 0.3747 - val_accuracy: 0.8407\n",
            "Epoch 13/20\n",
            "334/334 [==============================] - 1s 3ms/step - loss: 0.3762 - accuracy: 0.8396 - val_loss: 0.3709 - val_accuracy: 0.8422\n",
            "Epoch 14/20\n",
            "334/334 [==============================] - 1s 4ms/step - loss: 0.3718 - accuracy: 0.8401 - val_loss: 0.3679 - val_accuracy: 0.8443\n",
            "Epoch 15/20\n",
            "334/334 [==============================] - 2s 5ms/step - loss: 0.3717 - accuracy: 0.8413 - val_loss: 0.3676 - val_accuracy: 0.8441\n",
            "Epoch 16/20\n",
            "334/334 [==============================] - 1s 4ms/step - loss: 0.3685 - accuracy: 0.8454 - val_loss: 0.3644 - val_accuracy: 0.8450\n",
            "Epoch 17/20\n",
            "334/334 [==============================] - 1s 3ms/step - loss: 0.3650 - accuracy: 0.8478 - val_loss: 0.3643 - val_accuracy: 0.8465\n",
            "Epoch 18/20\n",
            "334/334 [==============================] - 1s 3ms/step - loss: 0.3617 - accuracy: 0.8482 - val_loss: 0.3619 - val_accuracy: 0.8486\n",
            "Epoch 19/20\n",
            "334/334 [==============================] - 1s 4ms/step - loss: 0.3578 - accuracy: 0.8504 - val_loss: 0.3584 - val_accuracy: 0.8501\n",
            "Epoch 20/20\n",
            "334/334 [==============================] - 1s 3ms/step - loss: 0.3586 - accuracy: 0.8497 - val_loss: 0.3576 - val_accuracy: 0.8469\n",
            "Epoch 1/20\n",
            "334/334 [==============================] - 2s 4ms/step - loss: 0.6644 - accuracy: 0.6380 - val_loss: 0.5328 - val_accuracy: 0.7604\n",
            "Epoch 2/20\n",
            "334/334 [==============================] - 1s 3ms/step - loss: 0.5528 - accuracy: 0.7297 - val_loss: 0.4955 - val_accuracy: 0.7761\n",
            "Epoch 3/20\n",
            "334/334 [==============================] - 1s 3ms/step - loss: 0.5229 - accuracy: 0.7563 - val_loss: 0.4902 - val_accuracy: 0.7802\n",
            "Epoch 4/20\n",
            "334/334 [==============================] - 1s 4ms/step - loss: 0.5116 - accuracy: 0.7611 - val_loss: 0.4792 - val_accuracy: 0.7842\n",
            "Epoch 5/20\n",
            "334/334 [==============================] - 2s 5ms/step - loss: 0.5054 - accuracy: 0.7661 - val_loss: 0.4758 - val_accuracy: 0.7849\n",
            "Epoch 6/20\n",
            "334/334 [==============================] - 1s 4ms/step - loss: 0.5022 - accuracy: 0.7708 - val_loss: 0.4770 - val_accuracy: 0.7853\n",
            "Epoch 7/20\n",
            "334/334 [==============================] - 1s 3ms/step - loss: 0.4963 - accuracy: 0.7751 - val_loss: 0.4727 - val_accuracy: 0.7857\n",
            "Epoch 8/20\n",
            "334/334 [==============================] - 1s 3ms/step - loss: 0.4939 - accuracy: 0.7741 - val_loss: 0.4794 - val_accuracy: 0.7862\n",
            "Epoch 9/20\n",
            "334/334 [==============================] - 1s 3ms/step - loss: 0.4899 - accuracy: 0.7803 - val_loss: 0.4742 - val_accuracy: 0.7855\n",
            "Epoch 10/20\n",
            "334/334 [==============================] - 1s 3ms/step - loss: 0.4886 - accuracy: 0.7771 - val_loss: 0.4725 - val_accuracy: 0.7872\n",
            "Epoch 11/20\n",
            "334/334 [==============================] - 1s 3ms/step - loss: 0.4855 - accuracy: 0.7813 - val_loss: 0.4736 - val_accuracy: 0.7872\n",
            "Epoch 12/20\n",
            "334/334 [==============================] - 1s 3ms/step - loss: 0.4838 - accuracy: 0.7821 - val_loss: 0.4692 - val_accuracy: 0.7881\n",
            "Epoch 13/20\n",
            "334/334 [==============================] - 1s 3ms/step - loss: 0.4812 - accuracy: 0.7811 - val_loss: 0.4706 - val_accuracy: 0.7866\n",
            "Epoch 14/20\n",
            "334/334 [==============================] - 1s 3ms/step - loss: 0.4799 - accuracy: 0.7835 - val_loss: 0.4697 - val_accuracy: 0.7860\n",
            "Epoch 15/20\n",
            "334/334 [==============================] - 1s 4ms/step - loss: 0.4798 - accuracy: 0.7863 - val_loss: 0.4693 - val_accuracy: 0.7873\n",
            "167/167 [==============================] - 1s 3ms/step\n",
            "167/167 [==============================] - 1s 3ms/step\n",
            "ROC AUC for H1N1 Vaccine: 0.8552141374412761\n",
            "ROC AUC for Seasonal Vaccine: 0.8593196629729625\n",
            "Overall Score: 0.8572669002071193\n"
          ]
        }
      ]
    },
    {
      "cell_type": "code",
      "source": [
        "import matplotlib.pyplot as plt\n",
        "from sklearn.metrics import roc_curve\n",
        "\n",
        "# Calculate ROC curve for H1N1 vaccine model\n",
        "fpr_h1n1, tpr_h1n1, thresholds_h1n1 = roc_curve(y_val['h1n1_vaccine'], preds_h1n1)\n",
        "\n",
        "# Calculate ROC curve for seasonal vaccine model\n",
        "fpr_seasonal, tpr_seasonal, thresholds_seasonal = roc_curve(y_val['seasonal_vaccine'], preds_seasonal)\n",
        "\n",
        "# Plot ROC curve\n",
        "plt.figure(figsize=(8, 6))\n",
        "plt.plot(fpr_h1n1, tpr_h1n1, label='ROC curve for H1N1 Vaccine Model')\n",
        "plt.plot(fpr_seasonal, tpr_seasonal, label='ROC curve for Seasonal Vaccine Model')\n",
        "plt.plot([0, 1], [0, 1], linestyle='--', color='gray', label='Random Guess')\n",
        "plt.xlabel('False Positive Rate')\n",
        "plt.ylabel('True Positive Rate')\n",
        "plt.title('Receiver Operating Characteristic (ROC) Curve')\n",
        "plt.legend()\n",
        "plt.grid(True)\n",
        "plt.show()\n"
      ],
      "metadata": {
        "colab": {
          "base_uri": "https://localhost:8080/",
          "height": 564
        },
        "id": "iNH1mELi8ulH",
        "outputId": "299fbf49-648e-4cde-d473-e46b6675c727"
      },
      "execution_count": 16,
      "outputs": [
        {
          "output_type": "display_data",
          "data": {
            "text/plain": [
              "<Figure size 800x600 with 1 Axes>"
            ],
            "image/png": "[encoded data removed]"
          },
          "metadata": {}
        }
      ]
    },
    {
      "cell_type": "code",
      "source": [
        "# Step 8: Make predictions on the test set\n",
        "test_preds_h1n1 = model_h1n1.predict(test_features_scaled).flatten()\n",
        "test_preds_seasonal = model_seasonal.predict(test_features_scaled).flatten()"
      ],
      "metadata": {
        "colab": {
          "base_uri": "https://localhost:8080/"
        },
        "id": "fdC4hYe08ZJk",
        "outputId": "61f755c5-8fb9-4aed-dc1f-26a4e84fd92e"
      },
      "execution_count": 18,
      "outputs": [
        {
          "output_type": "stream",
          "name": "stdout",
          "text": [
            "835/835 [==============================] - 5s 6ms/step\n",
            "835/835 [==============================] - 4s 5ms/step\n"
          ]
        }
      ]
    },
    {
      "cell_type": "code",
      "source": [
        "# Step 9: Prepare submission file\n",
        "submission_df = pd.DataFrame({\n",
        "    'respondent_id': test_features['respondent_id'],\n",
        "    'h1n1_vaccine': test_preds_h1n1,\n",
        "    'seasonal_vaccine': test_preds_seasonal\n",
        "})\n",
        "submission_df.to_csv(\"submission.csv\", index=False)\n"
      ],
      "metadata": {
        "id": "d8tk9jme8yhw"
      },
      "execution_count": 19,
      "outputs": []
    },
    {
      "cell_type": "code",
      "source": [],
      "metadata": {
        "id": "X-KbAKVM9PPV"
      },
      "execution_count": null,
      "outputs": []
    }
  ]
}